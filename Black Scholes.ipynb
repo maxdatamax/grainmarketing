{
 "cells": [
  {
   "cell_type": "code",
   "execution_count": 22,
   "metadata": {
    "collapsed": true
   },
   "outputs": [],
   "source": [
    "from math import *\n",
    "from scipy import stats\n",
    "\n",
    "def black_scholes(cp, s, k, t, v, rf, div):\n",
    "        \"\"\"\n",
    "        Price an option using the Black-Scholes model.\n",
    "        s: initial stock price\n",
    "        k: strike price\n",
    "        t: expiration time\n",
    "        v: volatility\n",
    "        rf: risk-free rate\n",
    "        div: dividend\n",
    "        cp: +1/-1 for call/put\n",
    "        \"\"\"\n",
    "\n",
    "        d1 = (log(s/k)+(rf-div+0.5*pow(v,2))*t)/(v*sqrt(t))\n",
    "        d2 = d1 - v*sqrt(t)\n",
    "\n",
    "        # call option\n",
    "        optprice = (cp*s*exp(-div*t)*stats.norm.cdf(cp*d1)) - (cp*k*exp(-rf*t)*stats.norm.cdf(cp*d2))\n",
    "        \n",
    "        return optprice\n",
    "    "
   ]
  },
  {
   "cell_type": "code",
   "execution_count": 23,
   "metadata": {
    "collapsed": false
   },
   "outputs": [
    {
     "data": {
      "text/plain": [
       "Timestamp('2017-07-28 00:00:00')"
      ]
     },
     "execution_count": 23,
     "metadata": {},
     "output_type": "execute_result"
    }
   ],
   "source": [
    "from pandas.tseries.offsets import BDay\n",
    "import datetime as dt\n",
    "dt.date.today() + BDay(120)"
   ]
  },
  {
   "cell_type": "code",
   "execution_count": 26,
   "metadata": {
    "collapsed": true
   },
   "outputs": [],
   "source": [
    "cp = 1\n",
    "s = 2120\n",
    "k = 2120\n",
    "t = 120\n",
    "v = 30.5\n",
    "rf = 1\n",
    "div = 0"
   ]
  },
  {
   "cell_type": "code",
   "execution_count": 27,
   "metadata": {
    "collapsed": false
   },
   "outputs": [
    {
     "data": {
      "text/plain": [
       "2120.0"
      ]
     },
     "execution_count": 27,
     "metadata": {},
     "output_type": "execute_result"
    }
   ],
   "source": [
    "black_scholes(cp, s, k, t, v, rf, div)"
   ]
  },
  {
   "cell_type": "code",
   "execution_count": null,
   "metadata": {
    "collapsed": true
   },
   "outputs": [],
   "source": []
  }
 ],
 "metadata": {
  "kernelspec": {
   "display_name": "Python 3",
   "language": "python",
   "name": "python3"
  },
  "language_info": {
   "codemirror_mode": {
    "name": "ipython",
    "version": 3
   },
   "file_extension": ".py",
   "mimetype": "text/x-python",
   "name": "python",
   "nbconvert_exporter": "python",
   "pygments_lexer": "ipython3",
   "version": "3.5.2"
  }
 },
 "nbformat": 4,
 "nbformat_minor": 0
}
